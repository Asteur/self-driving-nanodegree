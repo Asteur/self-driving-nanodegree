{
 "cells": [
  {
   "cell_type": "markdown",
   "metadata": {},
   "source": [
    "# Self-Driving Car Engineer Nanodegree\n",
    "\n",
    "## Deep Learning\n",
    "\n",
    "## Project: Build a Traffic Sign Recognition Classifier\n",
    "\n",
    "In this notebook, a template is provided for you to implement your functionality in stages, which is required to successfully complete this project. If additional code is required that cannot be included in the notebook, be sure that the Python code is successfully imported and included in your submission if necessary. \n",
    "\n",
    "> **Note**: Once you have completed all of the code implementations, you need to finalize your work by exporting the iPython Notebook as an HTML document. Before exporting the notebook to html, all of the code cells need to have been run so that reviewers can see the final implementation and output. You can then export the notebook by using the menu above and navigating to  \\n\",\n",
    "    \"**File -> Download as -> HTML (.html)**. Include the finished document along with this notebook as your submission. \n",
    "\n",
    "In addition to implementing code, there is a writeup to complete. The writeup should be completed in a separate file, which can be either a markdown file or a pdf document. There is a [write up template](https://github.com/udacity/CarND-Traffic-Sign-Classifier-Project/blob/master/writeup_template.md) that can be used to guide the writing process. Completing the code template and writeup template will cover all of the [rubric points](https://review.udacity.com/#!/rubrics/481/view) for this project.\n",
    "\n",
    "The [rubric](https://review.udacity.com/#!/rubrics/481/view) contains \"Stand Out Suggestions\" for enhancing the project beyond the minimum requirements. The stand out suggestions are optional. If you decide to pursue the \"stand out suggestions\", you can include the code in this Ipython notebook and also discuss the results in the writeup file.\n",
    "\n",
    "\n",
    ">**Note:** Code and Markdown cells can be executed using the **Shift + Enter** keyboard shortcut. In addition, Markdown cells can be edited by typically double-clicking the cell to enter edit mode."
   ]
  },
  {
   "cell_type": "code",
   "execution_count": 1,
   "metadata": {
    "collapsed": true
   },
   "outputs": [],
   "source": [
    "#Import\n",
    "import pickle\n",
    "import random\n",
    "import math\n",
    "import numpy as np\n",
    "import matplotlib.pyplot as plt\n",
    "import tensorflow as tf\n",
    "import cv2\n",
    "import glob\n",
    "import matplotlib.image as mpimg\n",
    "from numpy import newaxis\n",
    "%matplotlib inline\n",
    "from sklearn.utils import shuffle"
   ]
  },
  {
   "cell_type": "markdown",
   "metadata": {},
   "source": [
    "---\n",
    "## Step 0: Load The Data"
   ]
  },
  {
   "cell_type": "code",
   "execution_count": 24,
   "metadata": {
    "collapsed": true
   },
   "outputs": [],
   "source": [
    "# Load pickled data\n",
    "# TODO: Fill this in based on where you saved the training and testing data\n",
    "\n",
    "training_file = 'traffic-signs-data/train.p'\n",
    "validation_file='traffic-signs-data/valid.p'\n",
    "testing_file = 'traffic-signs-data/test.p'\n",
    "\n",
    "with open(training_file, mode='rb') as f:\n",
    "    train = pickle.load(f)\n",
    "with open(validation_file, mode='rb') as f:\n",
    "    valid = pickle.load(f)\n",
    "with open(testing_file, mode='rb') as f:\n",
    "    test = pickle.load(f)\n",
    "    \n",
    "X_train, y_train = train['features'], train['labels']\n",
    "X_valid, y_valid = valid['features'], valid['labels']\n",
    "X_test, y_test = test['features'], test['labels']"
   ]
  },
  {
   "cell_type": "markdown",
   "metadata": {},
   "source": [
    "---\n",
    "\n",
    "## Step 1: Dataset Summary & Exploration\n",
    "\n",
    "The pickled data is a dictionary with 4 key/value pairs:\n",
    "\n",
    "- `'features'` is a 4D array containing raw pixel data of the traffic sign images, (num examples, width, height, channels).\n",
    "- `'labels'` is a 1D array containing the label/class id of the traffic sign. The file `signnames.csv` contains id -> name mappings for each id.\n",
    "- `'sizes'` is a list containing tuples, (width, height) representing the the original width and height the image.\n",
    "- `'coords'` is a list containing tuples, (x1, y1, x2, y2) representing coordinates of a bounding box around the sign in the image. **THESE COORDINATES ASSUME THE ORIGINAL IMAGE. THE PICKLED DATA CONTAINS RESIZED VERSIONS (32 by 32) OF THESE IMAGES**\n",
    "\n",
    "Complete the basic data summary below. Use python, numpy and/or pandas methods to calculate the data summary rather than hard coding the results. For example, the [pandas shape method](http://pandas.pydata.org/pandas-docs/stable/generated/pandas.DataFrame.shape.html) might be useful for calculating some of the summary results. "
   ]
  },
  {
   "cell_type": "markdown",
   "metadata": {},
   "source": [
    "### Provide a Basic Summary of the Data Set Using Python, Numpy and/or Pandas"
   ]
  },
  {
   "cell_type": "code",
   "execution_count": 3,
   "metadata": {},
   "outputs": [
    {
     "name": "stdout",
     "output_type": "stream",
     "text": [
      "Number of training examples = 34799\n",
      "Number of testing examples = 12630\n",
      "Image data shape = (32, 32, 3)\n",
      "Number of classes = 43\n"
     ]
    }
   ],
   "source": [
    "### Replace each question mark with the appropriate value. \n",
    "### Use python, pandas or numpy methods rather than hard coding the results\n",
    "\n",
    "# TODO: Number of training examples\n",
    "n_train = len(X_train)\n",
    "\n",
    "# TODO: Number of testing examples.\n",
    "n_test = len(X_test)\n",
    "\n",
    "# TODO: What's the shape of an traffic sign image?\n",
    "image_shape = X_train[0].shape\n",
    "\n",
    "# TODO: How many unique classes/labels there are in the dataset.\n",
    "n_classes = len(list(set(y_train)))\n",
    "\n",
    "print(\"Number of training examples =\", n_train)\n",
    "print(\"Number of testing examples =\", n_test)\n",
    "print(\"Image data shape =\", image_shape)\n",
    "print(\"Number of classes =\", n_classes)"
   ]
  },
  {
   "cell_type": "markdown",
   "metadata": {},
   "source": [
    "### Include an exploratory visualization of the dataset"
   ]
  },
  {
   "cell_type": "markdown",
   "metadata": {},
   "source": [
    "Visualize the German Traffic Signs Dataset using the pickled file(s). This is open ended, suggestions include: plotting traffic sign images, plotting the count of each sign, etc.\n",
    "\n",
    "The [Matplotlib](http://matplotlib.org/) [examples](http://matplotlib.org/examples/index.html) and [gallery](http://matplotlib.org/gallery.html) pages are a great resource for doing visualizations in Python.\n",
    "\n",
    "**NOTE:** It's recommended you start with something simple first. If you wish to do more, come back to it after you've completed the rest of the sections."
   ]
  },
  {
   "cell_type": "code",
   "execution_count": 4,
   "metadata": {
    "collapsed": true
   },
   "outputs": [],
   "source": [
    "### Data exploration visualization code goes here.\n",
    "### Feel free to use as many code cells as needed.\n",
    "import matplotlib.pyplot as plt\n",
    "# Visualizations will be shown in the notebook.\n",
    "%matplotlib inline"
   ]
  },
  {
   "cell_type": "markdown",
   "metadata": {},
   "source": [
    "----\n",
    "\n",
    "## Step 2: Design and Test a Model Architecture\n",
    "\n",
    "Design and implement a deep learning model that learns to recognize traffic signs. Train and test your model on the [German Traffic Sign Dataset](http://benchmark.ini.rub.de/?section=gtsrb&subsection=dataset).\n",
    "\n",
    "There are various aspects to consider when thinking about this problem:\n",
    "\n",
    "- Neural network architecture\n",
    "- Play around preprocessing techniques (normalization, rgb to grayscale, etc)\n",
    "- Number of examples per label (some have more than others).\n",
    "- Generate fake data.\n",
    "\n",
    "Here is an example of a [published baseline model on this problem](http://yann.lecun.com/exdb/publis/pdf/sermanet-ijcnn-11.pdf). It's not required to be familiar with the approach used in the paper but, it's good practice to try to read papers like these.\n",
    "\n",
    "**NOTE:** The LeNet-5 implementation shown in the [classroom](https://classroom.udacity.com/nanodegrees/nd013/parts/fbf77062-5703-404e-b60c-95b78b2f3f9e/modules/6df7ae49-c61c-4bb2-a23e-6527e69209ec/lessons/601ae704-1035-4287-8b11-e2c2716217ad/concepts/d4aca031-508f-4e0b-b493-e7b706120f81) at the end of the CNN lesson is a solid starting point. You'll have to change the number of classes and possibly the preprocessing, but aside from that it's plug and play!"
   ]
  },
  {
   "cell_type": "markdown",
   "metadata": {},
   "source": [
    "### Pre-process the Data Set (normalization, grayscale, etc.)"
   ]
  },
  {
   "cell_type": "markdown",
   "metadata": {},
   "source": [
    "Use the code cell (or multiple code cells, if necessary) to implement the first step of your project."
   ]
  },
  {
   "cell_type": "code",
   "execution_count": 5,
   "metadata": {
    "collapsed": true
   },
   "outputs": [],
   "source": [
    "### Preprocess the data here. Preprocessing steps could include normalization, converting to grayscale, etc.\n",
    "\n",
    "X_train, y_train = shuffle(X_train, y_train)\n",
    "def normalize(data):\n",
    "    return ((data / 128) -1)\n",
    "\n",
    "def normalizestd(data):\n",
    "    return (data - np.mean(data)) / np.std(data)\n",
    "\n",
    "def normalize(img):\n",
    "    image=img.copy()\n",
    "    return (image - np.mean(image)) / np.std(image)\n",
    "def grayscale(img):\n",
    "    gray = cv2.cvtColor(img, cv2.COLOR_RGB2GRAY)\n",
    "    return gray\n",
    "def getHistogram(y):\n",
    "    return np.histogram(y, bins=np.arange(0,n_classes+1))\n",
    "def transformPipeLine(images):\n",
    "        return_imgs=[]\n",
    "        for img in images:\n",
    "            return_imgs.append(grayscale(img))\n",
    "        return normalize(np.array(return_imgs))"
   ]
  },
  {
   "cell_type": "code",
   "execution_count": 6,
   "metadata": {},
   "outputs": [
    {
     "data": {
      "image/png": "[encoded data removed]",
      "text/plain": [
       "<matplotlib.figure.Figure at 0x7f2858db36a0>"
      ]
     },
     "metadata": {},
     "output_type": "display_data"
    }
   ],
   "source": [
    "#This chart shows distribution of the input\n",
    "fig = plt.figure(figsize=(16, 8))\n",
    "plt.bar(left=np.arange(0,n_classes), height=getHistogram(y_train)[0], width=0.8, align='center')\n",
    "plt.title('count of classes in dataset')\n",
    "plt.show()"
   ]
  },
  {
   "cell_type": "markdown",
   "metadata": {},
   "source": [
    "### Question 1\n",
    "Describe how you preprocessed the data. Why did you choose that technique?"
   ]
  },
  {
   "cell_type": "markdown",
   "metadata": {},
   "source": [
    "**Answer:**\n",
    "During the testing it was observed that normalization of data produced best accuracy so for preprocessing only normalization was performed using the following formula ($X_\\text{norm} = \\frac{X}{128}$ -1 )."
   ]
  },
  {
   "cell_type": "markdown",
   "metadata": {},
   "source": [
    "### Preprocessing Step on sample image"
   ]
  },
  {
   "cell_type": "code",
   "execution_count": 74,
   "metadata": {},
   "outputs": [
    {
     "name": "stdout",
     "output_type": "stream",
     "text": [
      "3\n"
     ]
    },
    {
     "data": {
      "image/png": "[encoded data removed]",
      "text/plain": [
       "<matplotlib.figure.Figure at 0x7f2853aee278>"
      ]
     },
     "metadata": {},
     "output_type": "display_data"
    }
   ],
   "source": [
    "index = random.randint(0, len(X_train))\n",
    "image = X_train[index].squeeze()\n",
    "image_class=y_train[index]\n",
    "image_g=grayscale(image)\n",
    "image_normalized=normalizestd(image)\n",
    "f, (ax1, ax2, ax3) = plt.subplots(1,3, figsize=(7,7))\n",
    "ax1.imshow(image)\n",
    "ax1.set_title('Original', fontsize=20)\n",
    "ax2.imshow(image_g, cmap='gray')\n",
    "ax2.set_title('Greyscaled', fontsize=20)\n",
    "ax3.set_title('Normalized', fontsize=20)\n",
    "ax3.imshow(image_normalized, cmap='gray')\n",
    "print(image_class)"
   ]
  },
  {
   "cell_type": "markdown",
   "metadata": {},
   "source": [
    "### Train, Validate and Test the Model"
   ]
  },
  {
   "cell_type": "markdown",
   "metadata": {},
   "source": [
    "A validation set can be used to assess how well the model is performing. A low accuracy on the training and validation\n",
    "sets imply underfitting. A high accuracy on the training set but low accuracy on the validation set implies overfitting."
   ]
  },
  {
   "cell_type": "markdown",
   "metadata": {},
   "source": [
    "### Question 2\n",
    "Describe how you set up the training, validation and testing data for your model. "
   ]
  },
  {
   "cell_type": "markdown",
   "metadata": {},
   "source": [
    "**Answer**\n",
    "\n",
    "I used the training and validation set as provided. I normalized traning,validation and test set before using."
   ]
  },
  {
   "cell_type": "code",
   "execution_count": null,
   "metadata": {
    "collapsed": true
   },
   "outputs": [],
   "source": [
    "#Transformed Input\n",
    "X_train=normalize(X_train)\n",
    "X_valid=normalize(X_valid)\n",
    "X_test=normalize(X_test)"
   ]
  },
  {
   "cell_type": "code",
   "execution_count": 11,
   "metadata": {},
   "outputs": [
    {
     "name": "stdout",
     "output_type": "stream",
     "text": [
      "(32, 32, 3)\n"
     ]
    },
    {
     "data": {
      "image/png": "[encoded data removed]",
      "text/plain": [
       "<matplotlib.figure.Figure at 0x7f28589dbdd8>"
      ]
     },
     "metadata": {},
     "output_type": "display_data"
    }
   ],
   "source": [
    "#Plot transformed data\n",
    "index = random.randint(0, len(X_train))\n",
    "image_t = X_train[index].squeeze()\n",
    "\n",
    "plt.figure(figsize=(1,1))\n",
    "plt.imshow(image_t, cmap=\"gray\")\n",
    "print(image_t.shape)"
   ]
  },
  {
   "cell_type": "markdown",
   "metadata": {},
   "source": [
    "### Model Architecture"
   ]
  },
  {
   "cell_type": "markdown",
   "metadata": {},
   "source": [
    "### Question 3\n",
    "Describe what your final model architecture looks like including model type, layers, layer sizes, connectivity, etc.) Consider including a diagram and/or table describing the final model."
   ]
  },
  {
   "cell_type": "markdown",
   "metadata": {},
   "source": [
    "My final model consisted of the following layers:\n",
    "\n",
    "### Input\n",
    "The architecture accepts a 32x32x3 image as input.\n",
    "### Architecture\n",
    "**Layer 1: Convolutional.** The output shape should be 28x28x6.\n",
    "\n",
    "**Activation.** RELU.\n",
    "\n",
    "**Layer 2: Convolutional.** The output shape should be 24x24x16.\n",
    "\n",
    "**Activation.** RELU.\n",
    "\n",
    "**Pooling.** The output shape should be 12x12x16.\n",
    "\n",
    "**Layer 3: Convolutional.** The output shape should be 8x8x64.\n",
    "\n",
    "**Activation.** RELU.\n",
    "\n",
    "**Layer 4: Convolutional.** The output shape should be 4x4x128.\n",
    "\n",
    "**Activation.** RELU.\n",
    "\n",
    "**Pooling.** The output shape should be 2x2x128.\n",
    "\n",
    "**Flatten.** Flatten the output shape of the final pooling layer such that it's 1D instead of 3D. The easiest way to do is by using `tf.contrib.layers.flatten`, which is already imported for you.\n",
    "\n",
    "**Layer 3: Fully Connected.** This should have 256 outputs.\n",
    "\n",
    "**Activation.** RELU.\n",
    "\n",
    "**Layer 4: Fully Connected.** This should have 128 outputs.\n",
    "\n",
    "**Activation.** RELU.\n",
    "\n",
    "**Layer 5: Fully Connected (Logits).** This should have 43 outputs.\n",
    "\n",
    "### Output\n",
    "Return the result of the 2nd fully connected layer.\t\t\t\t\t\t\t|"
   ]
  },
  {
   "cell_type": "code",
   "execution_count": 8,
   "metadata": {
    "collapsed": true
   },
   "outputs": [],
   "source": [
    "### Define your architecture here.\n",
    "from tensorflow.contrib.layers import flatten\n",
    "\n",
    "def model(x,channel=3):    \n",
    "    mu = 0\n",
    "    sigma = 0.1\n",
    "    \n",
    "    # Layer 1: Convolutional. Input = 32x32x3. Output = 28x28x6.\n",
    "    conv1_W = tf.Variable(tf.truncated_normal(shape=(5, 5, channel, 6), mean = mu, stddev = sigma))\n",
    "    conv1_b = tf.Variable(tf.zeros(6))\n",
    "    conv1   = tf.nn.conv2d(x, conv1_W, strides=[1, 1, 1, 1], padding='VALID') + conv1_b\n",
    "    conv1 = tf.nn.relu(conv1)\n",
    "    # Dropout\n",
    "    conv1 = tf.nn.dropout(conv1, pkeep_conv)\n",
    "    \n",
    "    # Layer 2: Convolutional. Output = 24x24x16.\n",
    "    conv2_W = tf.Variable(tf.truncated_normal(shape=(5, 5, 6, 16), mean = mu, stddev = sigma))\n",
    "    conv2_b = tf.Variable(tf.zeros(16))\n",
    "    conv2   = tf.nn.conv2d(conv1, conv2_W, strides=[1, 1, 1, 1], padding='VALID') + conv2_b\n",
    "    conv2 = tf.nn.relu(conv2)\n",
    "    # Pooling. Input = 24x24x16. Output = 12x12x16.\n",
    "    conv2 = tf.nn.max_pool(conv2, ksize=[1, 2, 2, 1], strides=[1, 2, 2, 1], padding='VALID')\n",
    "    # Dropout\n",
    "    conv2 = tf.nn.dropout(conv2, pkeep_conv)\n",
    "\n",
    "    \n",
    "    # Layer 3: Convolutional. Input = 12x12x16. Output = 8x8x64.\n",
    "    conv3_W = tf.Variable(tf.truncated_normal(shape=(5, 5, 16, 64), mean = mu, stddev = sigma))\n",
    "    conv3_b = tf.Variable(tf.zeros(64))\n",
    "    conv3   = tf.nn.conv2d(conv2, conv3_W, strides=[1, 1, 1, 1], padding='VALID') + conv3_b\n",
    "    conv3 = tf.nn.relu(conv3)\n",
    "    # Dropout\n",
    "    conv3 = tf.nn.dropout(conv3, pkeep_conv)\n",
    "    \n",
    "    # Layer 4: Convolutional. Output = 4x4x128.\n",
    "    conv4_W = tf.Variable(tf.truncated_normal(shape=(5, 5, 64, 128), mean = mu, stddev = sigma))\n",
    "    conv4_b = tf.Variable(tf.zeros(128))\n",
    "    conv4   = tf.nn.conv2d(conv3, conv4_W, strides=[1, 1, 1, 1], padding='VALID') + conv4_b\n",
    "    conv4 = tf.nn.relu(conv4)\n",
    "    # Pooling. Input = 4x4x128. Output = 2x2x128.\n",
    "    conv4 = tf.nn.max_pool(conv4, ksize=[1, 2, 2, 1], strides=[1, 2, 2, 1], padding='VALID')\n",
    "    # Dropout\n",
    "    conv4 = tf.nn.dropout(conv4, pkeep_conv)\n",
    "\n",
    "    \n",
    "    # Flatten. Input = 2x2x128. Output = 512.\n",
    "    fc0   = flatten(conv4)\n",
    "\n",
    "    # Layer 3: Fully Connected. Input = 512. Output = 256.\n",
    "    fc1_W = tf.Variable(tf.truncated_normal(shape=(512, 256), mean = mu, stddev = sigma))\n",
    "    fc1_b = tf.Variable(tf.zeros(256))\n",
    "    fc1   = tf.matmul(fc0, fc1_W) + fc1_b\n",
    "    fc1    = tf.nn.relu(fc1)\n",
    "     # Dropout\n",
    "    fc1 = tf.nn.dropout(fc1, pkeep)\n",
    "    # Layer 4: Fully Connected. Input = 256. Output = 128.\n",
    "    fc2_W  = tf.Variable(tf.truncated_normal(shape=(256, 128), mean = mu, stddev = sigma))\n",
    "    fc2_b  = tf.Variable(tf.zeros(128))\n",
    "    fc2    = tf.matmul(fc1, fc2_W) + fc2_b\n",
    "    fc2    = tf.nn.relu(fc2)\n",
    "     # Dropout\n",
    "    fc2 = tf.nn.dropout(fc2, pkeep)\n",
    "    \n",
    "    # Layer 5: Fully Connected. Input = 128. Output = number of classes.\n",
    "    fc3_W  = tf.Variable(tf.truncated_normal(shape=(128, n_classes), mean = mu, stddev = sigma))\n",
    "    fc3_b  = tf.Variable(tf.zeros(n_classes))\n",
    "    logits = tf.matmul(fc2, fc3_W) + fc3_b\n",
    "    \n",
    "    return logits"
   ]
  },
  {
   "cell_type": "markdown",
   "metadata": {},
   "source": [
    "### EPOCH and BATCH SIZE"
   ]
  },
  {
   "cell_type": "code",
   "execution_count": 22,
   "metadata": {
    "collapsed": true
   },
   "outputs": [],
   "source": [
    "EPOCHS = 20 #Number of epochs for training\n",
    "BATCH_SIZE = 128 #Batchsize for training\n",
    "channel=3 #Channels in image"
   ]
  },
  {
   "cell_type": "markdown",
   "metadata": {},
   "source": [
    "### Features and Labels"
   ]
  },
  {
   "cell_type": "code",
   "execution_count": 12,
   "metadata": {
    "collapsed": true
   },
   "outputs": [],
   "source": [
    "#Placeholders for reading input\n",
    "x = tf.placeholder(tf.float32, (None, 32, 32, channel))\n",
    "y = tf.placeholder(tf.int32, (None))\n",
    "one_hot_y = tf.one_hot(y, n_classes)\n",
    "\n",
    "#iteration count\n",
    "iteration = tf.placeholder(tf.int32)\n",
    "# dropout probability\n",
    "pkeep = tf.placeholder(tf.float32)\n",
    "pkeep_conv = tf.placeholder(tf.float32)\n",
    "# variable learning rate\n",
    "lr = tf.placeholder(tf.float32)"
   ]
  },
  {
   "cell_type": "markdown",
   "metadata": {},
   "source": [
    "### Training Pipeline"
   ]
  },
  {
   "cell_type": "code",
   "execution_count": 13,
   "metadata": {
    "collapsed": true
   },
   "outputs": [],
   "source": [
    "logits = model(x,channel)\n",
    "cross_entropy = tf.nn.softmax_cross_entropy_with_logits(logits=logits, labels=one_hot_y)\n",
    "loss_operation = tf.reduce_mean(cross_entropy)\n",
    "optimizer = tf.train.AdamOptimizer(lr)\n",
    "training_operation = optimizer.minimize(loss_operation)"
   ]
  },
  {
   "cell_type": "markdown",
   "metadata": {},
   "source": [
    "### Evaluation"
   ]
  },
  {
   "cell_type": "code",
   "execution_count": 14,
   "metadata": {
    "collapsed": true
   },
   "outputs": [],
   "source": [
    "correct_prediction = tf.equal(tf.argmax(logits, 1), tf.argmax(one_hot_y, 1))\n",
    "accuracy_operation = tf.reduce_mean(tf.cast(correct_prediction, tf.float32))\n",
    "saver = tf.train.Saver()\n",
    "prediction=tf.argmax(one_hot_y, 1)\n",
    "def evaluate(X_data, y_data):\n",
    "    num_examples = len(X_data)\n",
    "    total_accuracy = 0\n",
    "    sess = tf.get_default_session()\n",
    "    for offset in range(0, num_examples, BATCH_SIZE):\n",
    "        batch_x, batch_y = X_data[offset:offset+BATCH_SIZE], y_data[offset:offset+BATCH_SIZE]\n",
    "        accuracy = sess.run(accuracy_operation, feed_dict={x: batch_x, y: batch_y, pkeep: 1, pkeep_conv: 1})\n",
    "        total_accuracy += (accuracy * len(batch_x))\n",
    "    return total_accuracy / num_examples"
   ]
  },
  {
   "cell_type": "markdown",
   "metadata": {},
   "source": [
    "### Training"
   ]
  },
  {
   "cell_type": "code",
   "execution_count": 15,
   "metadata": {},
   "outputs": [
    {
     "name": "stdout",
     "output_type": "stream",
     "text": [
      "Training...\n",
      "\n",
      "0.002\n",
      "EPOCH 1 ...\n",
      "Validation Accuracy = 0.900\n",
      "\n",
      "0.0019\n",
      "EPOCH 2 ...\n",
      "Validation Accuracy = 0.954\n",
      "\n",
      "0.0018\n",
      "EPOCH 3 ...\n",
      "Validation Accuracy = 0.970\n",
      "\n",
      "0.0017\n",
      "EPOCH 4 ...\n",
      "Validation Accuracy = 0.971\n",
      "\n",
      "0.0017\n",
      "EPOCH 5 ...\n",
      "Validation Accuracy = 0.973\n",
      "\n",
      "0.0016\n",
      "EPOCH 6 ...\n",
      "Validation Accuracy = 0.976\n",
      "\n",
      "0.0015\n",
      "EPOCH 7 ...\n",
      "Validation Accuracy = 0.968\n",
      "\n",
      "0.0014\n",
      "EPOCH 8 ...\n",
      "Validation Accuracy = 0.977\n",
      "\n",
      "0.0014\n",
      "EPOCH 9 ...\n",
      "Validation Accuracy = 0.983\n",
      "\n",
      "0.0013\n",
      "EPOCH 10 ...\n",
      "Validation Accuracy = 0.983\n",
      "\n",
      "0.0013\n",
      "EPOCH 11 ...\n",
      "Validation Accuracy = 0.983\n",
      "\n",
      "0.0012\n",
      "EPOCH 12 ...\n",
      "Validation Accuracy = 0.969\n",
      "\n",
      "0.0011\n",
      "EPOCH 13 ...\n",
      "Validation Accuracy = 0.985\n",
      "\n",
      "0.0011\n",
      "EPOCH 14 ...\n",
      "Validation Accuracy = 0.980\n",
      "\n",
      "0.001\n",
      "EPOCH 15 ...\n",
      "Validation Accuracy = 0.979\n",
      "\n",
      "0.001\n",
      "EPOCH 16 ...\n",
      "Validation Accuracy = 0.986\n",
      "\n",
      "0.001\n",
      "EPOCH 17 ...\n",
      "Validation Accuracy = 0.986\n",
      "\n",
      "0.0009\n",
      "EPOCH 18 ...\n",
      "Validation Accuracy = 0.988\n",
      "\n",
      "0.0009\n",
      "EPOCH 19 ...\n",
      "Validation Accuracy = 0.980\n",
      "\n",
      "0.0008\n",
      "EPOCH 20 ...\n",
      "Validation Accuracy = 0.980\n",
      "\n",
      "Model saved\n"
     ]
    }
   ],
   "source": [
    "with tf.Session() as sess:\n",
    "    sess.run(tf.global_variables_initializer())\n",
    "    num_examples = len(X_train)\n",
    "    \n",
    "    print(\"Training...\")\n",
    "    print()\n",
    "    for i in range(EPOCHS):\n",
    "        X_train, y_train = shuffle(X_train, y_train)\n",
    "        max_learning_rate = 0.002\n",
    "        min_learning_rate = 0.0001\n",
    "        decay_speed = EPOCHS\n",
    "        learning_rate = round(min_learning_rate + (max_learning_rate - min_learning_rate) * math.exp(-i/decay_speed),4)\n",
    "        print(learning_rate)\n",
    "        for offset in range(0, num_examples, BATCH_SIZE):\n",
    "            end = offset + BATCH_SIZE\n",
    "            batch_x, batch_y = X_train[offset:end], y_train[offset:end]\n",
    "            sess.run(training_operation, feed_dict={x: batch_x, y: batch_y ,lr: learning_rate, pkeep: 1, pkeep_conv:0.75,iteration:i})\n",
    "            \n",
    "        validation_accuracy = evaluate(X_valid, y_valid)\n",
    "        print(\"EPOCH {} ...\".format(i+1))\n",
    "        print(\"Validation Accuracy = {:.3f}\".format(validation_accuracy))\n",
    "        print()\n",
    "        \n",
    "    saver.save(sess, './model')\n",
    "    print(\"Model saved\")"
   ]
  },
  {
   "cell_type": "markdown",
   "metadata": {},
   "source": [
    "### Model Evaluation"
   ]
  },
  {
   "cell_type": "code",
   "execution_count": 16,
   "metadata": {},
   "outputs": [
    {
     "name": "stdout",
     "output_type": "stream",
     "text": [
      "Test Accuracy = 0.966\n"
     ]
    }
   ],
   "source": [
    "with tf.Session() as sess:\n",
    "    saver.restore(sess, tf.train.latest_checkpoint('.'))\n",
    "\n",
    "    test_accuracy = evaluate(X_test, y_test)\n",
    "    print(\"Test Accuracy = {:.3f}\".format(test_accuracy))"
   ]
  },
  {
   "cell_type": "markdown",
   "metadata": {
    "collapsed": true
   },
   "source": [
    "### Question 4 \n",
    "\n",
    "Describe how you trained your model. The discussion can include the type of optimizer, the batch size, number of epochs and any hyperparameters such as learning rate.\n",
    "\n",
    "**Answer**\n",
    "\n",
    "Model was trained using Adam optimizer. I used learning rate decay starting with higher learning rate and then slowly decreasing the learning. Max learning rate was set as .002 and min learning rate as .0001.Decay speed was kept equal to number of EPOCHS.\n",
    "\n",
    "I used batch size of 128 and ran for 20 epochs as validation accuracy didn't improve after that.\n",
    "\n",
    "For the model hyper-parameters, I stuck with a mean of 0 and standard deviation/sigma of 0.1."
   ]
  },
  {
   "cell_type": "markdown",
   "metadata": {},
   "source": [
    "### Question 5\n",
    "What approach did you take in coming up with a solution to this problem? It may have been a process of trial and error, in which case, outline the steps you took to get to the final solution and why you chose those steps. Perhaps your solution involved an already well known implementation or architecture. In this case, discuss why you think this is suitable for the current problem.\n",
    "\n",
    "**Answer**\n",
    "\n",
    "Validation accuracy for my approach is 0.98.\n",
    "\n",
    "Using just the LeNet architecture I was able to reach validation accuracy of only .90. So I added additional 2 more comvolutional layers and also increased the sizes of my fully connected layer.\n",
    "\n",
    "I also added dropout of .25 after every layer to prevent overfitting.\n",
    "\n",
    "This helped in improving validation accuracy to 0.95.\n",
    "\n",
    "To further improve accuracy I used batch size of 128 and also used learning rate decay, varying learning rate from .002 to .0001 . \n",
    "\n",
    "Also I increased number of EPOCS from earlier value of 10 to 20.\n",
    "\n",
    "With all these changes I was able to consistently hit validation accuracy of at-least 0.98.\n"
   ]
  },
  {
   "cell_type": "markdown",
   "metadata": {},
   "source": [
    "---\n",
    "\n",
    "## Step 3: Test a Model on New Images\n",
    "\n",
    "To give yourself more insight into how your model is working, download at least five pictures of German traffic signs from the web and use your model to predict the traffic sign type.\n",
    "\n",
    "You may find `signnames.csv` useful as it contains mappings from the class id (integer) to the actual sign name."
   ]
  },
  {
   "cell_type": "markdown",
   "metadata": {},
   "source": [
    "### Question 6\n",
    "Choose five candidate images of traffic signs and provide them in the report. Are there any particular qualities of the image(s) that might make classification difficult? It could be helpful to plot the images in the notebook.\n",
    "\n",
    "**Answer**: The five images chosen are:\n",
    "* Road Work.\n",
    "* Left Turn.\n",
    "* Stop Sign.\n",
    "* Yeild Sign.\n",
    "* 60km Speed limit sign."
   ]
  },
  {
   "cell_type": "markdown",
   "metadata": {},
   "source": [
    "### Load and Output the Images"
   ]
  },
  {
   "cell_type": "code",
   "execution_count": 55,
   "metadata": {},
   "outputs": [
    {
     "data": {
      "image/png": "[encoded data removed]",
      "text/plain": [
       "<matplotlib.figure.Figure at 0x7f285403fac8>"
      ]
     },
     "metadata": {},
     "output_type": "display_data"
    },
    {
     "data": {
      "image/png": "[encoded data removed]",
      "text/plain": [
       "<matplotlib.figure.Figure at 0x7f283b88f320>"
      ]
     },
     "metadata": {},
     "output_type": "display_data"
    },
    {
     "data": {
      "image/png": "[encoded data removed]",
      "text/plain": [
       "<matplotlib.figure.Figure at 0x7f28541c6c88>"
      ]
     },
     "metadata": {},
     "output_type": "display_data"
    },
    {
     "data": {
      "image/png": "[encoded data removed]",
      "text/plain": [
       "<matplotlib.figure.Figure at 0x7f285505f4e0>"
      ]
     },
     "metadata": {},
     "output_type": "display_data"
    },
    {
     "data": {
      "image/png": "[encoded data removed]",
      "text/plain": [
       "<matplotlib.figure.Figure at 0x7f28483a83c8>"
      ]
     },
     "metadata": {},
     "output_type": "display_data"
    }
   ],
   "source": [
    "#Load german traffic images\n",
    "german_traffic_data=[]\n",
    "traffic_signs = glob.glob('german_traffic_sign/*',recursive=True)\n",
    "for image in traffic_signs:\n",
    "        img=mpimg.imread(image)\n",
    "        fileName=image.split(\"/\")[1].split(\".\")[0]\n",
    "        german_traffic_data.append(img)\n",
    "        plt.imshow(img)\n",
    "        plt.title(fileName)\n",
    "        plt.show()\n",
    "#Normalize input\n",
    "german_traffic_data=normalize(german_traffic_data)"
   ]
  },
  {
   "cell_type": "markdown",
   "metadata": {},
   "source": [
    "#### Potential difficulties with german traffic images dataset"
   ]
  },
  {
   "cell_type": "markdown",
   "metadata": {},
   "source": [
    "* Difference in image histogram\n",
    "* Difference in contrast"
   ]
  },
  {
   "cell_type": "code",
   "execution_count": 88,
   "metadata": {},
   "outputs": [
    {
     "data": {
      "image/png": "[encoded data removed]",
      "text/plain": [
       "<matplotlib.figure.Figure at 0x7f2853b18588>"
      ]
     },
     "metadata": {},
     "output_type": "display_data"
    },
    {
     "data": {
      "image/png": "[encoded data removed]",
      "text/plain": [
       "<matplotlib.figure.Figure at 0x7f2853f04780>"
      ]
     },
     "metadata": {},
     "output_type": "display_data"
    },
    {
     "data": {
      "text/plain": [
       "3072"
      ]
     },
     "execution_count": 88,
     "metadata": {},
     "output_type": "execute_result"
    }
   ],
   "source": [
    "#Image histogram german traffic images dataset\n",
    "img=cv2.cvtColor(cv2.imread('german_traffic_sign/60_kmh.jpg', cv2.IMREAD_COLOR), cv2.COLOR_BGR2RGB)\n",
    "plt.imshow(img)\n",
    "plt.show()\n",
    "plt.hist(img.ravel(),256,[0,256]); plt.show()\n",
    "img.size"
   ]
  },
  {
   "cell_type": "code",
   "execution_count": 80,
   "metadata": {},
   "outputs": [
    {
     "data": {
      "image/png": "[encoded data removed]",
      "text/plain": [
       "<matplotlib.figure.Figure at 0x7f28540165f8>"
      ]
     },
     "metadata": {},
     "output_type": "display_data"
    },
    {
     "data": {
      "image/png": "[encoded data removed]",
      "text/plain": [
       "<matplotlib.figure.Figure at 0x7f2853bf0eb8>"
      ]
     },
     "metadata": {},
     "output_type": "display_data"
    },
    {
     "data": {
      "text/plain": [
       "3072"
      ]
     },
     "execution_count": 80,
     "metadata": {},
     "output_type": "execute_result"
    }
   ],
   "source": [
    "#Image histogram Traffic signs data set\n",
    "img=X_train[5705]\n",
    "plt.imshow(img)\n",
    "plt.show()\n",
    "plt.hist((img).ravel(),256,[0,256]); plt.show()\n",
    "X_train[0].size"
   ]
  },
  {
   "cell_type": "markdown",
   "metadata": {},
   "source": [
    "We can clearly see for 60 km/h speed limit sign in the German traffic images data set has very different histogram.It also seems that the image has lower contrast. This will surely make traffic signs with more complex shape very difficult to classify. "
   ]
  },
  {
   "cell_type": "markdown",
   "metadata": {},
   "source": [
    "### Predict the Sign Type for Each Image"
   ]
  },
  {
   "cell_type": "code",
   "execution_count": 19,
   "metadata": {
    "collapsed": true
   },
   "outputs": [],
   "source": [
    "with tf.Session() as sess:\n",
    "    saver.restore(sess, tf.train.latest_checkpoint('.'))\n",
    "    predictions = sess.run(logits, feed_dict={x: german_traffic_data,pkeep: 1, pkeep_conv:1})"
   ]
  },
  {
   "cell_type": "markdown",
   "metadata": {},
   "source": [
    "### Analyze Performance"
   ]
  },
  {
   "cell_type": "markdown",
   "metadata": {},
   "source": [
    "### Question 7\n",
    "Is your model able to perform equally well on captured pictures when compared to testing on the dataset? The simplest way to do this check the accuracy of the predictions. For example, if the model predicted 1 out of 5 signs correctly, it's 20% accurate."
   ]
  },
  {
   "cell_type": "code",
   "execution_count": 20,
   "metadata": {},
   "outputs": [
    {
     "name": "stdout",
     "output_type": "stream",
     "text": [
      "Image 0 probabilities: [ 23.34737968  19.92960358  11.30270672  10.90556049   9.33794689] \n",
      " and predicted classes: [18  1  5  4  0]\n",
      "Image 1 probabilities: [ 34.27561951  29.32116508  18.35739326  12.65977478   8.24320412] \n",
      " and predicted classes: [34 35 38 37 10]\n",
      "Image 2 probabilities: [ 21.33496094   4.28812456   4.17121553   4.11383581   3.57753301] \n",
      " and predicted classes: [14 26 17 15  1]\n",
      "Image 3 probabilities: [ 40.03987122   8.56211185   6.01118422   4.66693306   3.44292307] \n",
      " and predicted classes: [13 35 41 12 34]\n",
      "Image 4 probabilities: [ 12.36163616  10.91278267  10.09543991   8.64745331   8.1240387 ] \n",
      " and predicted classes: [ 3 23  2  9 19]\n"
     ]
    }
   ],
   "source": [
    "### Visualize the softmax probabilities here.\n",
    "### Feel free to use as many code cells as needed.\n",
    "with tf.Session() as sess:\n",
    "    prediction = sess.run(tf.nn.top_k((predictions), k=5, sorted=True))\n",
    "    \n",
    "for i in range(len(prediction[0])):\n",
    "    print('Image', i, 'probabilities:', prediction[0][i], '\\n and predicted classes:', prediction[1][i])"
   ]
  },
  {
   "cell_type": "markdown",
   "metadata": {},
   "source": [
    "**Answer**\n",
    "\n",
    "Model was able to predict 4 out of 5 images correctly hence the accuracy of **80%**.\n",
    "* Image 1 of read work was wrongly predicted as class 18 (General caution)\n",
    "* Image 2 of left turn was correctly predicted as class 34 (Turn left ahead)\n",
    "* Image 3 of stop sigh was correctly predicted as class 14 (Stop)\n",
    "* Image 4 of yield sign was correctly predicted as class 13 (Yield)\n",
    "* Image 5 of 60 km speed limit was correctly predicted as class 3 (Speed limit (60km/h))\n",
    "\n",
    "This is much less than accuracy of **96.6%** in the test set.The following could be the reasons \n",
    "* 34799 samples of Traffic signs training data set is not sufficient. Augmenting this data set with lower resolution ,transformed and stretched images may help in better generalization.\n",
    "* More pre-processing steps  required while learning to remove any data set specific features which may help in better generalization. \n",
    "* Convolutional layers  not deep enough to capture all shape information.Which is evident from the fact that image with class 18 has similar outer triangular shape when compared to road work in the German traffic sign data set."
   ]
  },
  {
   "cell_type": "markdown",
   "metadata": {},
   "source": [
    "### Output Top 5 Softmax Probabilities For Each Image Found on the Web"
   ]
  },
  {
   "cell_type": "markdown",
   "metadata": {},
   "source": [
    "For each of the new images, print out the model's softmax probabilities to show the **certainty** of the model's predictions (limit the output to the top 5 probabilities for each image). [`tf.nn.top_k`](https://www.tensorflow.org/versions/r0.12/api_docs/python/nn.html#top_k) could prove helpful here. \n",
    "\n",
    "The example below demonstrates how tf.nn.top_k can be used to find the top k predictions for each image.\n",
    "\n",
    "`tf.nn.top_k` will return the values and indices (class ids) of the top k predictions. So if k=3, for each sign, it'll return the 3 largest probabilities (out of a possible 43) and the correspoding class ids.\n",
    "\n",
    "Take this numpy array as an example. The values in the array represent predictions. The array contains softmax probabilities for five candidate images with six possible classes. `tk.nn.top_k` is used to choose the three classes with the highest probability:\n",
    "\n",
    "```\n",
    "# (5, 6) array\n",
    "a = np.array([[ 0.24879643,  0.07032244,  0.12641572,  0.34763842,  0.07893497,\n",
    "         0.12789202],\n",
    "       [ 0.28086119,  0.27569815,  0.08594638,  0.0178669 ,  0.18063401,\n",
    "         0.15899337],\n",
    "       [ 0.26076848,  0.23664738,  0.08020603,  0.07001922,  0.1134371 ,\n",
    "         0.23892179],\n",
    "       [ 0.11943333,  0.29198961,  0.02605103,  0.26234032,  0.1351348 ,\n",
    "         0.16505091],\n",
    "       [ 0.09561176,  0.34396535,  0.0643941 ,  0.16240774,  0.24206137,\n",
    "         0.09155967]])\n",
    "```\n",
    "\n",
    "Running it through `sess.run(tf.nn.top_k(tf.constant(a), k=3))` produces:\n",
    "\n",
    "```\n",
    "TopKV2(values=array([[ 0.34763842,  0.24879643,  0.12789202],\n",
    "       [ 0.28086119,  0.27569815,  0.18063401],\n",
    "       [ 0.26076848,  0.23892179,  0.23664738],\n",
    "       [ 0.29198961,  0.26234032,  0.16505091],\n",
    "       [ 0.34396535,  0.24206137,  0.16240774]]), indices=array([[3, 0, 5],\n",
    "       [0, 1, 4],\n",
    "       [0, 5, 1],\n",
    "       [1, 3, 5],\n",
    "       [1, 4, 3]], dtype=int32))\n",
    "```\n",
    "\n",
    "Looking just at the first row we get `[ 0.34763842,  0.24879643,  0.12789202]`, you can confirm these are the 3 largest probabilities in `a`. You'll also notice `[3, 0, 5]` are the corresponding indices."
   ]
  },
  {
   "cell_type": "code",
   "execution_count": 21,
   "metadata": {},
   "outputs": [
    {
     "name": "stdout",
     "output_type": "stream",
     "text": [
      "Image 0 probabilities: [ 23.34737968  19.92960358  11.30270672  10.90556049   9.33794689] \n",
      " and predicted classes: [18  1  5  4  0]\n",
      "Image 1 probabilities: [ 34.27561951  29.32116508  18.35739326  12.65977478   8.24320412] \n",
      " and predicted classes: [34 35 38 37 10]\n",
      "Image 2 probabilities: [ 21.33496094   4.28812456   4.17121553   4.11383581   3.57753301] \n",
      " and predicted classes: [14 26 17 15  1]\n",
      "Image 3 probabilities: [ 40.03987122   8.56211185   6.01118422   4.66693306   3.44292307] \n",
      " and predicted classes: [13 35 41 12 34]\n",
      "Image 4 probabilities: [ 12.36163616  10.91278267  10.09543991   8.64745331   8.1240387 ] \n",
      " and predicted classes: [ 3 23  2  9 19]\n"
     ]
    }
   ],
   "source": [
    "### Print out the top five softmax probabilities for the predictions on the German traffic sign images found on the web. \n",
    "for i in range(len(prediction[0])):\n",
    "    print('Image', i, 'probabilities:', prediction[0][i], '\\n and predicted classes:', prediction[1][i])"
   ]
  },
  {
   "cell_type": "markdown",
   "metadata": {},
   "source": [
    "### Question 8\n",
    "Use the model's softmax probabilities to visualize the certainty of its predictions, tf.nn.top_k could prove helpful here. Which predictions is the model certain of? Uncertain? If the model was incorrect in its initial prediction, does the correct prediction appear in the top k? (k should be 5 at most)"
   ]
  },
  {
   "cell_type": "markdown",
   "metadata": {},
   "source": [
    "**Answer**\n",
    "\n",
    "Prediction for Image 1 is completely wrong, the correct class 25(Road work) is not even in top 5. \n",
    "\n",
    "In case of Image2, class 34 and 25 are very close but class 34 has a slightly higher value which is sufficient for correct prediction in this case.\n",
    "\n",
    "For Image3 & Image4 there is no confusion .The correct class has much higher value than the rest.\n",
    "\n",
    "In case of Image5 again class 3 and class 23 have close values.But class 3 has slightly higher value for a correct prediction in this case.\n",
    "\n",
    "Overall model performs well in the chosen 5 image files. But to be certain tests must be done on large number of  images.\n",
    "\n",
    "Also,augmenting the data-set with transformed and stretched images can help in producing more robust model."
   ]
  },
  {
   "cell_type": "markdown",
   "metadata": {},
   "source": [
    "> **Note**: Once you have completed all of the code implementations and successfully answered each question above, you may finalize your work by exporting the iPython Notebook as an HTML document. You can do this by using the menu above and navigating to  \\n\",\n",
    "    \"**File -> Download as -> HTML (.html)**. Include the finished document along with this notebook as your submission."
   ]
  },
  {
   "cell_type": "code",
   "execution_count": null,
   "metadata": {
    "collapsed": true
   },
   "outputs": [],
   "source": []
  }
 ],
 "metadata": {
  "anaconda-cloud": {},
  "kernelspec": {
   "display_name": "Python 3",
   "language": "python",
   "name": "python3"
  },
  "language_info": {
   "codemirror_mode": {
    "name": "ipython",
    "version": 3
   },
   "file_extension": ".py",
   "mimetype": "text/x-python",
   "name": "python",
   "nbconvert_exporter": "python",
   "pygments_lexer": "ipython3",
   "version": "3.5.2"
  },
  "widgets": {
   "state": {},
   "version": "1.1.2"
  }
 },
 "nbformat": 4,
 "nbformat_minor": 1
}
